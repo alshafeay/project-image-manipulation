{
  "nbformat": 4,
  "nbformat_minor": 0,
  "metadata": {
    "colab": {
      "name": "project-image-manipulation.ipynb",
      "provenance": []
    },
    "kernelspec": {
      "name": "python3",
      "display_name": "Python 3"
    },
    "language_info": {
      "name": "python"
    }
  },
  "cells": [
    {
      "cell_type": "markdown",
      "metadata": {
        "id": "kJTF_psfb-tP"
      },
      "source": [
        "# Project: Image Manipulation\n",
        "\n",
        "[![Open In Colab <](https://colab.research.google.com/assets/colab-badge.svg)](https://colab.research.google.com/github/ShawnHymel/computer-vision-with-embedded-machine-learning/blob/master/1.1.5%20-%20Project%20-%20Loading%20and%20Manipulating%20Images/project_image_manipulation.ipynb)\n",
        "\n",
        "Welcome to your first project in the Computer Vision with Embedded Machine Learning course! Follow along with the project prompts to complete this project. Press 'shift + enter' to run a cell.\n",
        "\n",
        "Author: EdgeImpulse, Inc.<br>\n",
        "Date: July 30, 2021<br>\n",
        "License: [Apache-2.0](apache.org/licenses/LICENSE-2.0)<br>"
      ]
    },
    {
      "cell_type": "code",
      "metadata": {
        "id": "UHU8rIFNe06Z",
        "outputId": "42f2080f-586a-4125-8f42-a302a4c071a8",
        "colab": {
          "base_uri": "https://localhost:8080/"
        }
      },
      "source": [
        "### Example: Try running this cell. Press 'shift + enter'.\n",
        "\n",
        "var = 1 + 2\n",
        "print(\"Answer:\", var)"
      ],
      "execution_count": 1,
      "outputs": [
        {
          "output_type": "stream",
          "name": "stdout",
          "text": [
            "Answer: 3\n"
          ]
        }
      ]
    },
    {
      "cell_type": "markdown",
      "metadata": {
        "id": "JjupkIoxfkJv"
      },
      "source": [
        "Google Colab runs Jupyter Notebook, which is a web-based client application that allows you to run code (Python in this case) on a server. Similar to an interactive Python console, you can run pieces of code (stored in \"cells\") at a time rather than running (and debugging) an entire program.\n",
        "\n",
        "Variables are saved between cells, unless you select *Runtime > Restart Runtime* to delete all your stored variables. You'll need to run all of your cells again if you do that.\n",
        "\n",
        "If you need help with Jupyter Notebook, you can read the documentation here: https://jupyter-notebook.readthedocs.io/en/stable/\n",
        "\n",
        "If this is your first time using Colab, I recommend reading through this [getting start guide](https://www.tutorialspoint.com/google_colab/google_colab_quick_guide.htm)."
      ]
    },
    {
      "cell_type": "markdown",
      "metadata": {
        "id": "l1tYPuB2enzT"
      },
      "source": [
        "## Part 1: Load an Image\n",
        "\n",
        "On the left side of Colab, click the folder icon. Click the upload icon and select one of your captured dataset images."
      ]
    },
    {
      "cell_type": "code",
      "metadata": {
        "id": "Ad3-vwQ5b6sm"
      },
      "source": [
        "### You will likely need these libraries\n",
        "\n",
        "import os\n",
        "import PIL\n",
        "from PIL import Image"
      ],
      "execution_count": 3,
      "outputs": []
    },
    {
      "cell_type": "markdown",
      "metadata": {
        "id": "8WAaZbSKiDpL"
      },
      "source": [
        "You might need to use the `os.path.join()` function to create a string that points to the location of your image. You can read more about it here: https://docs.python.org/3/library/os.path.html#os.path.join\n",
        "\n",
        "There are a few ways to open an image in Python. I recommend using the Image module in the PIL package to do that. You can read about the Image module here: https://pillow.readthedocs.io/en/stable/reference/Image.html. You will also need to use the `Image.convert()` function to convert the image to grayscale (documentation found on that same page)."
      ]
    },
    {
      "cell_type": "code",
      "metadata": {
        "id": "UNUskjg_g83e"
      },
      "source": [
        "### Open image and convert to grayscale.\n",
        "\n",
        "# Placeholder--you need to save the grayscale image in the 'img' variable\n",
        "img = None\n",
        "\n",
        "# >>> ENTER YOUR CODE HERE <<<\n",
        "img = Image.open('/content/0.png').convert('L')\n",
        "img.save('grayscale_image.png')\n"
      ],
      "execution_count": 4,
      "outputs": []
    },
    {
      "cell_type": "markdown",
      "metadata": {
        "id": "L7GI22Xxj8Xw"
      },
      "source": [
        "We can preview the image using the `imshow()` function as part of the matplotlib library. You can read about it here: https://matplotlib.org/stable/api/_as_gen/matplotlib.pyplot.imshow.html"
      ]
    },
    {
      "cell_type": "code",
      "metadata": {
        "id": "JQdwaFn0iuby"
      },
      "source": [
        "### Load the pyplot module (from matplotlib)\n",
        "\n",
        "import matplotlib.pyplot as plt"
      ],
      "execution_count": 5,
      "outputs": []
    },
    {
      "cell_type": "code",
      "metadata": {
        "id": "9F6R8J_PizR6",
        "outputId": "d17ff565-9009-434c-a7a7-f5e4109f478c",
        "colab": {
          "base_uri": "https://localhost:8080/",
          "height": 450
        }
      },
      "source": [
        "### View the image\n",
        "\n",
        "# At this point, your image should be loaded and saved in the 'img' variable. Let's view it.\n",
        "plt.imshow(img, cmap='gray', vmin=0, vmax=255)"
      ],
      "execution_count": 6,
      "outputs": [
        {
          "output_type": "execute_result",
          "data": {
            "text/plain": [
              "<matplotlib.image.AxesImage at 0x7fe8ede90170>"
            ]
          },
          "metadata": {},
          "execution_count": 6
        },
        {
          "output_type": "display_data",
          "data": {
            "text/plain": [
              "<Figure size 640x480 with 1 Axes>"
            ],
            "image/png": "[encoded data removed]"
          },
          "metadata": {}
        }
      ]
    },
    {
      "cell_type": "markdown",
      "metadata": {
        "id": "yxaImmZal6i2"
      },
      "source": [
        "## Part 2: Convert Image to Numpy Array\n",
        "\n",
        "PIL Image objects are useful for some object manipulation, but to really get our hands dirty, we want to convert everything to numerical arrays. We'll use Numpy to work with such arrays.\n",
        "\n",
        "Numpy is a powerful Python library that allows us to efficiently work with multi-dimensional arrays. If this is your first time using Numpy, I recommend reading through this tutorial (try running some of the commands!): https://towardsdatascience.com/getting-started-with-numpy-59b22df56729"
      ]
    },
    {
      "cell_type": "code",
      "metadata": {
        "id": "Wt74ISbOlDd7"
      },
      "source": [
        "### We'll obviously need the Numpy package\n",
        "\n",
        "import numpy as np"
      ],
      "execution_count": 7,
      "outputs": []
    },
    {
      "cell_type": "markdown",
      "metadata": {
        "id": "ahKzexN-vYtv"
      },
      "source": [
        "I recommend using the `asarray()` function in Numpy to conver the PIL Image object. You can read about it here: https://numpy.org/doc/stable/reference/generated/numpy.asarray.html"
      ]
    },
    {
      "cell_type": "code",
      "metadata": {
        "id": "GYqEVTN4uvMl"
      },
      "source": [
        "### Conver the Image object to a Numpy array\n",
        "\n",
        "# Save your Numpy array in the 'img_array' variable\n",
        "img_array = None\n",
        "\n",
        "# >>> ENTER YOUR CODE HERE <<<\n",
        "img_array = np.asarray(img)\n"
      ],
      "execution_count": 9,
      "outputs": []
    },
    {
      "cell_type": "code",
      "metadata": {
        "id": "4aGsrVZYwBEd",
        "outputId": "0d3e3836-95d4-4a9f-f704-c3ede2d02fa7",
        "colab": {
          "base_uri": "https://localhost:8080/",
          "height": 450
        }
      },
      "source": [
        "### View the array as an image\n",
        "\n",
        "# At this point, your image should be saved as a Numpy array in the 'img_array' variable\n",
        "plt.imshow(img_array, cmap='gray', vmin=0, vmax=255)"
      ],
      "execution_count": 10,
      "outputs": [
        {
          "output_type": "execute_result",
          "data": {
            "text/plain": [
              "<matplotlib.image.AxesImage at 0x7fe8ec95fb00>"
            ]
          },
          "metadata": {},
          "execution_count": 10
        },
        {
          "output_type": "display_data",
          "data": {
            "text/plain": [
              "<Figure size 640x480 with 1 Axes>"
            ],
            "image/png": "[encoded data removed]"
          },
          "metadata": {}
        }
      ]
    },
    {
      "cell_type": "code",
      "metadata": {
        "id": "65iaXwyAwKcq",
        "outputId": "145cf86f-ef17-4440-fde4-4e3f82fc8e7b",
        "colab": {
          "base_uri": "https://localhost:8080/"
        }
      },
      "source": [
        "### View details about the array: print the shape, entire array, first row, and first column\n",
        "# Note that Python may leave out some values when printing the entire array.\n",
        "# Make sure that the first row and first column look correct!\n",
        "\n",
        "# >>> ENTER YOUR CODE HERE <<<\n",
        "print(\"Shape:\", img_array.shape)\n",
        "print(\"\\nEntire array:\")\n",
        "print(img_array)\n",
        "print(\"\\nFirst row:\")\n",
        "print(img_array[0])\n",
        "print(\"\\nFirst column:\")\n",
        "print(img_array[:, 0])\n"
      ],
      "execution_count": 12,
      "outputs": [
        {
          "output_type": "stream",
          "name": "stdout",
          "text": [
            "Shape: (96, 96)\n",
            "\n",
            "Entire array:\n",
            "[[155 155 156 ... 161 161 161]\n",
            " [155 155 155 ... 161 161 163]\n",
            " [155 155 155 ... 161 161 163]\n",
            " ...\n",
            " [131 131 131 ... 141 141 142]\n",
            " [128 128 128 ... 139 139 141]\n",
            " [131 131 131 ... 139 139 139]]\n",
            "\n",
            "First row:\n",
            "[155 155 156 156 155 155 155 155 155 155 155 155 155 158 158 158 158 158\n",
            " 158 158 157 157 158 158 157 157 158 158 158 161 161 161 161 161 161 161\n",
            " 163 163 163 163 163 163 163 163 161 163 163 163 163 163 163 163 163 163\n",
            " 163 163 163 163 163 163 163 163 163 163 161 163 163 163 161 161 163 163\n",
            " 163 163 163 163 163 163 163 163 163 163 163 163 163 163 163 163 163 161\n",
            " 158 158 161 161 161 161]\n",
            "\n",
            "First column:\n",
            "[155 155 155 155 155 155 155 155 154 152 155 155 155 155 155 155 155 155\n",
            " 155 155 155 155 155 155 155 155 155 155 155 155 155 155 155 155 155 155\n",
            " 155 155 155 155 155 155 155 155 155 155 155 155 155 155 155 152 152 152\n",
            " 150 150 149 150 147 147 147 149 147 147 147 147 147 147 147 147 147 147\n",
            " 147 147 141 141 141 139 139 139 139 139 139 139 139 139 133 133 133 133\n",
            " 131 131 131 131 128 131]\n"
          ]
        }
      ]
    },
    {
      "cell_type": "markdown",
      "metadata": {
        "id": "6obWluMAxfta"
      },
      "source": [
        "## Part 3: Resize Image\n",
        "\n",
        "We can use a variety of functions to change the image, which will help us curate our dataset as well as work with image data on our embedded devices.\n",
        "\n",
        "To start, we'll resize the image to something smaller. Resizing, scaling, and zooming images is often not trivial, so we'll rely on the transform module in the scikit-image package to help us. You can read more about the resize function here: https://scikit-image.org/docs/dev/api/skimage.transform.html#skimage.transform.resize"
      ]
    },
    {
      "cell_type": "code",
      "metadata": {
        "id": "5g0__YgZwjw8"
      },
      "source": [
        "### We'll use the Scikit-Image Transform module to help us resize the image\n",
        "\n",
        "from skimage.transform import resize"
      ],
      "execution_count": 13,
      "outputs": []
    },
    {
      "cell_type": "code",
      "metadata": {
        "id": "j-SNuTOGwqTZ",
        "outputId": "21122d59-e73e-43a3-c829-ad1ea7130609",
        "colab": {
          "base_uri": "https://localhost:8080/"
        }
      },
      "source": [
        "### Use the \"resize\" function to resize your image array to 28x28 pixels.\n",
        "# I recommend setting the \"anti_aliasing\" parameter to True.\n",
        "# Print the array's shape when you are done (it should be (28, 28))\n",
        "\n",
        "# Save your resized image in the 'img_resized' variable\n",
        "img_resized = None\n",
        "\n",
        "# >>> ENTER YOUR CODE HERE <<<\n",
        "img_resized=resize(img_array, (28,28), anti_aliasing=True)\n",
        "print(img_resized.shape)"
      ],
      "execution_count": 14,
      "outputs": [
        {
          "output_type": "stream",
          "name": "stdout",
          "text": [
            "(28, 28)\n"
          ]
        }
      ]
    },
    {
      "cell_type": "code",
      "metadata": {
        "id": "LCIFvHSdzhAG",
        "outputId": "0eecf670-720a-4c84-d1f1-faa4a6dc1ee5",
        "colab": {
          "base_uri": "https://localhost:8080/",
          "height": 447
        }
      },
      "source": [
        "### View the new array as an image (this should look all black--that's OK!)\n",
        "\n",
        "# At this point, your resized image should be saved in the 'img_resized' variable\n",
        "plt.imshow(img_resized, cmap='gray', vmin=0, vmax=255)"
      ],
      "execution_count": 15,
      "outputs": [
        {
          "output_type": "execute_result",
          "data": {
            "text/plain": [
              "<matplotlib.image.AxesImage at 0x7fe8d760ccb0>"
            ]
          },
          "metadata": {},
          "execution_count": 15
        },
        {
          "output_type": "display_data",
          "data": {
            "text/plain": [
              "<Figure size 640x480 with 1 Axes>"
            ],
            "image/png": "[encoded data removed]"
          },
          "metadata": {}
        }
      ]
    },
    {
      "cell_type": "markdown",
      "metadata": {
        "id": "G51eLl5z0Cz_"
      },
      "source": [
        "What happened?!? Why is the image all black?\n",
        "\n",
        "The resize function in skimage automatically *normalizes* all of the values in the image to be between 0.0 and 1.0 (they were integers between 0 and 255 previously). Feel free to print out some values from the array to verify this.\n",
        "\n",
        "Let's go back to those 8-bit grayscale values!\n",
        "\n",
        "You can use the Numpy [rint()](https://numpy.org/doc/stable/reference/generated/numpy.rint.html#numpy.rint) and [astype()](https://numpy.org/doc/stable/reference/generated/numpy.ndarray.astype.html) functions to round and convert to integers, respectively. You can use the [clip()](https://numpy.org/doc/stable/reference/generated/numpy.clip.html) function to clamp elements in an array to be between 2 values."
      ]
    },
    {
      "cell_type": "code",
      "metadata": {
        "id": "ri8iscxfz74e"
      },
      "source": [
        "### Convert the normalized 0.0 to 1.0 values in your image to 0 to 255 integers\n",
        "# Save this 8-bit array back into the 'img_resized' variable\n",
        "# Round or truncate all elements to integer values (no floating point decimals)\n",
        "# Make sure all elements are between 0 and 255 (known as \"clamping\")\n",
        "\n",
        "# >>> ENTER YOUR CODE HERE <<<\n",
        "img_resized = np.clip(img_resized * 255, 0, 255).astype(np.uint8)"
      ],
      "execution_count": 16,
      "outputs": []
    },
    {
      "cell_type": "code",
      "metadata": {
        "id": "LHg6_QCh08ms",
        "outputId": "5a98f4be-80ce-4f0f-bf31-67a47a74924b",
        "colab": {
          "base_uri": "https://localhost:8080/",
          "height": 447
        }
      },
      "source": [
        "### Let's try drawing the image again\n",
        "\n",
        "# At this point, your resized image should be saved in the 'img_resized' variable\n",
        "plt.imshow(img_resized, cmap='gray', vmin=0, vmax=255)"
      ],
      "execution_count": 17,
      "outputs": [
        {
          "output_type": "execute_result",
          "data": {
            "text/plain": [
              "<matplotlib.image.AxesImage at 0x7fe8d6e630b0>"
            ]
          },
          "metadata": {},
          "execution_count": 17
        },
        {
          "output_type": "display_data",
          "data": {
            "text/plain": [
              "<Figure size 640x480 with 1 Axes>"
            ],
            "image/png": "[encoded data removed]"
          },
          "metadata": {}
        }
      ]
    },
    {
      "cell_type": "markdown",
      "metadata": {
        "id": "6Anav0wq3a-z"
      },
      "source": [
        "## Part 4: Draw on the Image\n",
        "\n",
        "Here's your final challenge for this project: draw a white 10x10 square (unfilled, outline thickness of 1 pixel) in the middle of your image.\n",
        "\n",
        "You must do this by manipulating the raw values in the Numpy array. You may not use other libraries to help you (such as by drawing a [Rectangle](https://matplotlib.org/stable/api/_as_gen/matplotlib.patches.Rectangle.html) with matplotlib).\n",
        "\n",
        "I'd like you to try this exercise for two reasons:\n",
        "\n",
        "1.   You get practice slicing arrays in Numpy\n",
        "2.   You won't have matplotlib on some embedded systems, and you'll have to draw things like bounding boxes manually\n",
        "\n",
        "If you have not used Numpy (or other linear algebra systems, like R and MATLAB) before, this can be tricky. I highly recommend avoiding using for loops, as Numpy is highly optimized for array operations without them. You may want to read through this tutorial to get an understanding of this style of array programming: https://realpython.com/numpy-array-programming/"
      ]
    },
    {
      "cell_type": "code",
      "metadata": {
        "id": "8uUejjaj3agp"
      },
      "source": [
        "### Change the required elements in the Numpy array so that a 10x10 white square is drawn in the\n",
        "# middle. Try to avoid using for loops if possible.\n",
        "\n",
        "# Start with your resized image\n",
        "img_with_box = np.copy(img_resized)\n",
        "\n",
        "# >>> ENTER YOUR CODE HERE <<<\n",
        "img_with_box[9:19, 9:19] = 255"
      ],
      "execution_count": 18,
      "outputs": []
    },
    {
      "cell_type": "code",
      "metadata": {
        "id": "s3tR-S1e6_-b",
        "outputId": "d5b3b931-064e-4c5f-bd0c-1e072d7e78bb",
        "colab": {
          "base_uri": "https://localhost:8080/",
          "height": 447
        }
      },
      "source": [
        "### Draw the image--you should see a white squre in the middle!\n",
        "\n",
        "# Your image should be saved in the 'img_with_square\n",
        "plt.imshow(img_with_box, cmap='gray', vmin=0, vmax=255)"
      ],
      "execution_count": 19,
      "outputs": [
        {
          "output_type": "execute_result",
          "data": {
            "text/plain": [
              "<matplotlib.image.AxesImage at 0x7fe8d69e2ed0>"
            ]
          },
          "metadata": {},
          "execution_count": 19
        },
        {
          "output_type": "display_data",
          "data": {
            "text/plain": [
              "<Figure size 640x480 with 1 Axes>"
            ],
            "image/png": "[encoded data removed]"
          },
          "metadata": {}
        }
      ]
    }
  ]
}